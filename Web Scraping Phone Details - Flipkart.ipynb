{
 "cells": [
  {
   "cell_type": "markdown",
   "metadata": {},
   "source": [
    "## Web Scraping For Mobile Phone Details :\n",
    "---\n",
    "\n",
    "<center><img src=\"https://www.dfarber.com/media/1190/web-scraping-services.gif?anchor=center&amp;mode=crop&amp;width=1140&amp;upscale=false&amp;rnd=132607100590000000\" jsaction=\"load:XAeZkd;\" jsname=\"HiaYvf\" class=\"n3VNCb KAlRDb\" alt=\"Web scraping development to help your company prosper\" data-noaft=\"1\" style=\"width: 900px; height: 386.0524137931035px; margin: 2.55395px 0px;\"></center>\n",
    "\n",
    "### Approach Note :  \n",
    "To Fetch the data using Web Scraping using Python, we need to go through the following steps\n",
    "\n",
    "1. Install required python modules like - pandas, numpy and BeautifulSoup etc.\n",
    "2. Collect all the URLS which you want to scrape\n",
    "3. Think all possible fields of infomation you wanna collect, hera we collecting - price, rating, rating_review and its descriptions etc with brand name.\n",
    "3. Get the data address you want to extract from the urls by inspecting the page.\n",
    "5. Below code can be utilezed to extract the data and store to in required format. \n",
    "\n",
    "### Data Source : \n",
    "<a href=\"https://www.flipkart.com/search?q=iphone&otracker=search&otracker1=search&marketplace=FLIPKART&as-show=on&as=off\">\n",
    "<img src=\"https://icubeelectronics.com/wp-content/uploads/2018/06/flipkart-logo.png\" jsaction=\"load:XAeZkd;\" jsname=\"HiaYvf\" class=\"n3VNCb KAlRDb\" alt=\"Flipkart Logo Flash Sales, 60% OFF | www.quadrantkindercentra.nl\" data-noaft=\"1\" style=\"width: 130px; height: 62.75862068965517px; margin: 0px;\"></a> \n",
    "\n",
    "<img src=\"https://raw.githubusercontent.com/aakash8004/Web-Scraping-Phone-Details-BeautifulSoup/fa1c2aa7a587abf03ccc7feabae6b2e18d156da3/Screenshot%20(505).png\">"
   ]
  },
  {
   "cell_type": "markdown",
   "metadata": {},
   "source": [
    "### Required Library :"
   ]
  },
  {
   "cell_type": "code",
   "execution_count": 2,
   "metadata": {},
   "outputs": [],
   "source": [
    "from datetime import datetime, date\n",
    "from IPython.display import display, HTML\n",
    "import requests\n",
    "from scipy import stats\n",
    "import numpy as np\n",
    "import pandas as pd\n",
    "from tqdm import tqdm\n",
    "from bs4 import BeautifulSoup\n",
    "import warnings\n",
    "warnings.filterwarnings(\"ignore\")"
   ]
  },
  {
   "cell_type": "markdown",
   "metadata": {},
   "source": [
    "### Web Scrapper : A User Define Function"
   ]
  },
  {
   "cell_type": "code",
   "execution_count": 3,
   "metadata": {
    "scrolled": true
   },
   "outputs": [],
   "source": [
    "def flipkart_web_scrapper(URL):\n",
    "    r= requests.get(URL)\n",
    "    data=r.text\n",
    "    soup=BeautifulSoup(data)\n",
    "    \n",
    "    products = []             # List to store name of the product\n",
    "    prices = []               # List to store price of the product\n",
    "    ratings = []              # List to store rating of the product\n",
    "    review_ratings = []       # List to count of review and ratings\n",
    "    features = []             # List to features of phone\n",
    "\n",
    "    for a in soup.findAll('div', attrs={'class':'_3pLy-c row'}):\n",
    "        name=a.find('div', attrs={'class':'_4rR01T'})\n",
    "        price=a.find('div', attrs={'class':\"_30jeq3 _1_WHN1\"})\n",
    "        rating=a.find('div', attrs={'class':\"_3LWZlK\"})\n",
    "        review_rating = a.find('span',attrs = {'class':\"_2_R_DZ\"})\n",
    "        feature = a.find('ul',attrs = {'class':\"_1xgFaf\"})\n",
    "        products.append(np.nan if name == None else name.text)\n",
    "        prices.append(np.nan if price == None else price.text)\n",
    "        ratings.append(np.nan if rating == None else rating.text)\n",
    "        review_ratings.append(np.nan if review_rating == None else review_rating.text)\n",
    "        features.append([i.text for i in feature.children])\n",
    "\n",
    "    temp = pd.DataFrame([products,prices,ratings,review_ratings,features]).T\n",
    "    temp.columns = ['Model','Prices','Rating','Review_Rating','Features']\n",
    "    return temp\n",
    "\n",
    "def get_number_of_pages(URL):\n",
    "    r= requests.get(URL)\n",
    "    data=r.text\n",
    "    soup = BeautifulSoup(data)\n",
    "    number_of_pages = int([i.find('span').text for i in soup.find_all('div',attrs = {'class':'_2MImiq'})][0].split()[-1])\n",
    "    return number_of_pages\n",
    "\n",
    "def get_phone_level_details(base_url):\n",
    "    phone_master = pd.DataFrame()\n",
    "    number_of_pages = get_number_of_pages(base_url+'2')\n",
    "    for pn in tqdm(range(1,number_of_pages+1)):\n",
    "        temp = flipkart_web_scrapper(base_url+str(pn))\n",
    "        temp['Page Number'] = pn\n",
    "        phone_master = phone_master.append(temp,ignore_index = True)\n",
    "    return phone_master"
   ]
  },
  {
   "cell_type": "markdown",
   "metadata": {},
   "source": [
    "### URLS : Mobile Phone Urls of different Brand from Flipkart"
   ]
  },
  {
   "cell_type": "code",
   "execution_count": 4,
   "metadata": {},
   "outputs": [],
   "source": [
    "url_master = { \n",
    "    \"Samsung\": \"\"\"https://www.flipkart.com/search?q=samsung+mobiles&sid=tyy%2C4io&as=on&as-show=on&otracker=AS_QueryStore_OrganicAutoSuggest_1_2_na_na_ps&otracker1=AS_QueryStore_OrganicAutoSuggest_1_2_na_na_ps&as-pos=1&as-type=RECENT&suggestionId=samsung+mobiles%7CMobiles&requestId=bca735df-4e51-4b55-bd9c-3f9d43a744c2&as-backfill=on&page=\"\"\",\n",
    "    \"Xiaomi\" : \"\"\"https://www.flipkart.com/search?q=xiaomi+mobiles&as=on&as-show=on&otracker=AS_Query_OrganicAutoSuggest_4_2_na_na_na&otracker1=AS_Query_OrganicAutoSuggest_4_2_na_na_na&as-pos=4&as-type=RECENT&suggestionId=xiaomi+mobiles&requestId=82419741-cebd-4e08-8351-eda8f3f0b1ac&as-backfill=on&page=\"\"\",\n",
    "    \"Vivo\" : \"\"\"https://www.flipkart.com/search?q=vivo+mobiles&sid=tyy%2C4io&as=on&as-show=on&otracker=AS_QueryStore_OrganicAutoSuggest_1_4_na_na_ps&otracker1=AS_QueryStore_OrganicAutoSuggest_1_4_na_na_ps&as-pos=1&as-type=RECENT&suggestionId=vivo+mobiles%7CMobiles&requestId=7ed81aaf-0f52-40ba-b02d-404bdda0aa2e&as-searchtext=Vivo&page=\"\"\",\n",
    "    \"Huawei\" : \"\"\"https://www.flipkart.com/search?q=huawei+mobiles&sid=tyy%2C4io&as=on&as-show=on&otracker=AS_QueryStore_OrganicAutoSuggest_1_6_na_na_ps&otracker1=AS_QueryStore_OrganicAutoSuggest_1_6_na_na_ps&as-pos=1&as-type=RECENT&suggestionId=huawei+mobiles%7CMobiles&requestId=7429e63f-2203-4b99-a606-5809978443c1&as-searchtext=Huawei&page=\"\"\",\n",
    "    \"Oppo\" : \"\"\"https://www.flipkart.com/search?q=oppo+mobile&sid=tyy%2C4io&as=on&as-show=on&otracker=AS_QueryStore_OrganicAutoSuggest_1_3_na_na_ps&otracker1=AS_QueryStore_OrganicAutoSuggest_1_3_na_na_ps&as-pos=1&as-type=RECENT&suggestionId=oppo+mobile%7CMobiles&requestId=f33bf060-8592-431e-afe0-ac4c46d45c3b&as-searchtext=Opp&page=\"\"\",\n",
    "    \"Realme\" : \"\"\"https://www.flipkart.com/search?q=realme+mobile&sid=tyy%2C4io&as=on&as-show=on&otracker=AS_QueryStore_OrganicAutoSuggest_1_2_na_na_na&otracker1=AS_QueryStore_OrganicAutoSuggest_1_2_na_na_na&as-pos=1&as-type=RECENT&suggestionId=realme+mobile%7CMobiles&requestId=b3b09f9e-6a6b-4441-af99-4f3638e72d66&as-backfill=on&page=\"\"\",\n",
    "    \"Motorola\" : \"\"\"https://www.flipkart.com/search?q=motorola+mobiles&sid=tyy%2C4io&as=on&as-show=on&otracker=AS_QueryStore_OrganicAutoSuggest_1_4_na_na_ps&otracker1=AS_QueryStore_OrganicAutoSuggest_1_4_na_na_ps&as-pos=1&as-type=RECENT&suggestionId=motorola+mobiles%7CMobiles&requestId=6eee5334-5ca2-43d4-972c-d7247438bce2&as-backfill=on&page=\"\"\",\n",
    "    \"Intex\" : \"\"\"https://www.flipkart.com/search?q=intex+mobile&sid=tyy%2C4io&as=on&as-show=on&otracker=AS_QueryStore_OrganicAutoSuggest_1_5_na_na_ps&otracker1=AS_QueryStore_OrganicAutoSuggest_1_5_na_na_ps&as-pos=1&as-type=RECENT&suggestionId=intex+mobile%7CMobiles&requestId=02ac7010-c5d4-4768-b1e7-7eec6c1c24e1&as-searchtext=Intex&page=\"\"\",\n",
    "    \"Micromax\" : \"\"\"https://www.flipkart.com/search?q=micromax+mobiles&sid=tyy%2C4io&as=on&as-show=on&otracker=AS_QueryStore_OrganicAutoSuggest_1_5_na_na_ps&otracker1=AS_QueryStore_OrganicAutoSuggest_1_5_na_na_ps&as-pos=1&as-type=RECENT&suggestionId=micromax+mobiles%7CMobiles&requestId=1e5e24ce-9ee4-4451-b7ed-3f15eeebf7a9&as-searchtext=Micro&page=\"\"\",\n",
    "    \"Lenovo\" : \"\"\"https://www.flipkart.com/search?q=lenovo+mobile&sid=tyy%2C4io&as=on&as-show=on&otracker=AS_QueryStore_OrganicAutoSuggest_1_4_na_na_ps&otracker1=AS_QueryStore_OrganicAutoSuggest_1_4_na_na_ps&as-pos=1&as-type=RECENT&suggestionId=lenovo+mobile%7CMobiles&requestId=bbe09392-8d02-4be6-8d36-9e84dc0062a2&as-searchtext=Leno&page=\"\"\",\n",
    "    \"Oneplus\" : \"\"\"https://www.flipkart.com/search?q=oneplus+mobile&sid=tyy%2C4io&as=on&as-show=on&otracker=AS_QueryStore_OrganicAutoSuggest_1_2_na_na_na&otracker1=AS_QueryStore_OrganicAutoSuggest_1_2_na_na_na&as-pos=1&as-type=RECENT&suggestionId=oneplus+mobile%7CMobiles&requestId=a651ce7b-1f46-4d34-b907-aec2ae59588b&as-searchtext=on&page=\"\"\",\n",
    "    \"Gionee\" : \"\"\"https://www.flipkart.com/search?q=gionee+mobile&sid=tyy%2C4io&as=on&as-show=on&otracker=AS_QueryStore_OrganicAutoSuggest_1_6_na_na_ps&otracker1=AS_QueryStore_OrganicAutoSuggest_1_6_na_na_ps&as-pos=1&as-type=RECENT&suggestionId=gionee+mobile%7CMobiles&requestId=44fb9d57-3218-4bc1-a893-28e846eacd5d&as-searchtext=gionee&page=\"\"\",\n",
    "    \"Lava\" : \"\"\"https://www.flipkart.com/search?q=lava+mobile&sid=tyy%2C4io&as=on&as-show=on&otracker=AS_QueryStore_OrganicAutoSuggest_1_4_na_na_ps&otracker1=AS_QueryStore_OrganicAutoSuggest_1_4_na_na_ps&as-pos=1&as-type=RECENT&suggestionId=lava+mobile%7CMobiles&requestId=454ac513-c220-433c-991d-005d10b14ff7&as-backfill=on&page=\"\"\",\n",
    "    \"Itel\" : \"\"\"https://www.flipkart.com/search?q=itel+mobile&sid=tyy%2C4io&as=on&as-show=on&otracker=AS_QueryStore_OrganicAutoSuggest_1_4_na_na_ps&otracker1=AS_QueryStore_OrganicAutoSuggest_1_4_na_na_ps&as-pos=1&as-type=RECENT&suggestionId=itel+mobile%7CMobiles&requestId=2105ccad-4b32-44da-9d4f-9cdf26f47431&as-backfill=on&page=\"\"\",\n",
    "    \"Tecno\" : \"\"\"https://www.flipkart.com/search?q=tecno+mobile&sid=tyy%2C4io&as=on&as-show=on&otracker=AS_QueryStore_OrganicAutoSuggest_1_5_na_na_ps&otracker1=AS_QueryStore_OrganicAutoSuggest_1_5_na_na_ps&as-pos=1&as-type=RECENT&suggestionId=tecno+mobile%7CMobiles&requestId=93d40223-9efb-460a-a91e-415bab9c2e38&as-searchtext=tecno&page=\"\"\",\n",
    "    \"Google\" : \"\"\"https://www.flipkart.com/search?q=google+mobile&as=on&as-show=on&otracker=AS_Query_OrganicAutoSuggest_4_6_na_na_ps&otracker1=AS_Query_OrganicAutoSuggest_4_6_na_na_ps&as-pos=4&as-type=RECENT&suggestionId=google+mobile&requestId=3e35ac6c-93fd-44e7-8338-3bc12cc07913&as-backfill=on&page=\"\"\",\n",
    "    \"Asus\" : \"\"\"https://www.flipkart.com/search?q=asus+mobile&sid=tyy%2C4io&as=on&as-show=on&otracker=AS_QueryStore_OrganicAutoSuggest_1_4_na_na_ps&otracker1=AS_QueryStore_OrganicAutoSuggest_1_4_na_na_ps&as-pos=1&as-type=RECENT&suggestionId=asus+mobile%7CMobiles&requestId=62cf46d5-628d-43ca-9482-104796dec06d&as-searchtext=Asus&page=\"\"\",\n",
    "    \"Infinix\" : \"\"\"https://www.flipkart.com/search?q=infinix+mobile&sid=tyy%2C4io&as=on&as-show=on&otracker=AS_QueryStore_OrganicAutoSuggest_1_2_na_na_ps&otracker1=AS_QueryStore_OrganicAutoSuggest_1_2_na_na_ps&as-pos=1&as-type=RECENT&suggestionId=infinix+mobile%7CMobiles&requestId=605bb181-266c-4210-8c78-65a5e1b7d5da&as-searchtext=In&page=\"\"\",\n",
    "    \"Sony\" : \"\"\"https://www.flipkart.com/search?q=sony+mobile&otracker=search&otracker1=search&marketplace=FLIPKART&as-show=on&as=off&page=\"\"\",\n",
    "    \"HTC\" : \"\"\"https://www.flipkart.com/search?q=htc+mobiles&sid=tyy%2C4io&as=on&as-show=on&otracker=AS_QueryStore_OrganicAutoSuggest_1_3_na_na_ps&otracker1=AS_QueryStore_OrganicAutoSuggest_1_3_na_na_ps&as-pos=1&as-type=RECENT&suggestionId=htc+mobiles%7CMobiles&requestId=dbe379ce-d54a-447b-9292-54b019936772&as-searchtext=htc&page=\"\"\",\n",
    "    \"Redmi\" : \"\"\"https://www.flipkart.com/search?q=redmi+mobile&sid=tyy%2C4io&as=on&as-show=on&otracker=AS_QueryStore_OrganicAutoSuggest_1_4_na_na_ps&otracker1=AS_QueryStore_OrganicAutoSuggest_1_4_na_na_ps&as-pos=1&as-type=RECENT&suggestionId=redmi+mobile%7CMobiles&requestId=a684970d-c8e5-4863-998d-28fdcac6ac10&as-backfill=on&page=\"\"\",\n",
    "    \"Iphone\" : \"\"\"https://www.flipkart.com/search?q=iphone&otracker=search&otracker1=search&marketplace=FLIPKART&as-show=on&as=off&page=\"\"\"\n",
    "}"
   ]
  },
  {
   "cell_type": "markdown",
   "metadata": {},
   "source": [
    "### Featching the Info on Urls iterations:"
   ]
  },
  {
   "cell_type": "code",
   "execution_count": 5,
   "metadata": {
    "scrolled": false
   },
   "outputs": [
    {
     "name": "stdout",
     "output_type": "stream",
     "text": [
      "Samsung\n"
     ]
    },
    {
     "name": "stderr",
     "output_type": "stream",
     "text": [
      "100%|██████████████████████████████████████████████████████████████████████████████████| 42/42 [01:14<00:00,  1.77s/it]\n"
     ]
    },
    {
     "name": "stdout",
     "output_type": "stream",
     "text": [
      "Xiaomi\n"
     ]
    },
    {
     "name": "stderr",
     "output_type": "stream",
     "text": [
      "100%|██████████████████████████████████████████████████████████████████████████████████| 26/26 [00:46<00:00,  1.80s/it]\n"
     ]
    },
    {
     "name": "stdout",
     "output_type": "stream",
     "text": [
      "Vivo\n"
     ]
    },
    {
     "name": "stderr",
     "output_type": "stream",
     "text": [
      "100%|██████████████████████████████████████████████████████████████████████████████████| 13/13 [00:23<00:00,  1.79s/it]\n"
     ]
    },
    {
     "name": "stdout",
     "output_type": "stream",
     "text": [
      "Huawei\n"
     ]
    },
    {
     "name": "stderr",
     "output_type": "stream",
     "text": [
      "100%|████████████████████████████████████████████████████████████████████████████████████| 7/7 [00:10<00:00,  1.52s/it]\n"
     ]
    },
    {
     "name": "stdout",
     "output_type": "stream",
     "text": [
      "Oppo\n"
     ]
    },
    {
     "name": "stderr",
     "output_type": "stream",
     "text": [
      "100%|██████████████████████████████████████████████████████████████████████████████████| 12/12 [00:16<00:00,  1.37s/it]\n"
     ]
    },
    {
     "name": "stdout",
     "output_type": "stream",
     "text": [
      "Realme\n"
     ]
    },
    {
     "name": "stderr",
     "output_type": "stream",
     "text": [
      "100%|██████████████████████████████████████████████████████████████████████████████████| 16/16 [00:21<00:00,  1.35s/it]\n"
     ]
    },
    {
     "name": "stdout",
     "output_type": "stream",
     "text": [
      "Motorola\n"
     ]
    },
    {
     "name": "stderr",
     "output_type": "stream",
     "text": [
      "100%|████████████████████████████████████████████████████████████████████████████████████| 7/7 [00:10<00:00,  1.44s/it]\n"
     ]
    },
    {
     "name": "stdout",
     "output_type": "stream",
     "text": [
      "Intex\n"
     ]
    },
    {
     "name": "stderr",
     "output_type": "stream",
     "text": [
      "100%|██████████████████████████████████████████████████████████████████████████████████| 16/16 [00:21<00:00,  1.36s/it]\n"
     ]
    },
    {
     "name": "stdout",
     "output_type": "stream",
     "text": [
      "Micromax\n"
     ]
    },
    {
     "name": "stderr",
     "output_type": "stream",
     "text": [
      "100%|██████████████████████████████████████████████████████████████████████████████████| 19/19 [00:36<00:00,  1.91s/it]\n"
     ]
    },
    {
     "name": "stdout",
     "output_type": "stream",
     "text": [
      "Lenovo\n"
     ]
    },
    {
     "name": "stderr",
     "output_type": "stream",
     "text": [
      "100%|████████████████████████████████████████████████████████████████████████████████████| 6/6 [00:11<00:00,  1.92s/it]\n"
     ]
    },
    {
     "name": "stdout",
     "output_type": "stream",
     "text": [
      "Oneplus\n"
     ]
    },
    {
     "name": "stderr",
     "output_type": "stream",
     "text": [
      "100%|████████████████████████████████████████████████████████████████████████████████████| 5/5 [00:17<00:00,  3.46s/it]\n"
     ]
    },
    {
     "name": "stdout",
     "output_type": "stream",
     "text": [
      "Gionee\n"
     ]
    },
    {
     "name": "stderr",
     "output_type": "stream",
     "text": [
      "100%|████████████████████████████████████████████████████████████████████████████████████| 4/4 [00:10<00:00,  2.56s/it]\n"
     ]
    },
    {
     "name": "stdout",
     "output_type": "stream",
     "text": [
      "Lava\n"
     ]
    },
    {
     "name": "stderr",
     "output_type": "stream",
     "text": [
      "100%|██████████████████████████████████████████████████████████████████████████████████| 23/23 [00:49<00:00,  2.17s/it]\n"
     ]
    },
    {
     "name": "stdout",
     "output_type": "stream",
     "text": [
      "Itel\n"
     ]
    },
    {
     "name": "stderr",
     "output_type": "stream",
     "text": [
      "100%|████████████████████████████████████████████████████████████████████████████████████| 9/9 [00:13<00:00,  1.50s/it]\n"
     ]
    },
    {
     "name": "stdout",
     "output_type": "stream",
     "text": [
      "Tecno\n"
     ]
    },
    {
     "name": "stderr",
     "output_type": "stream",
     "text": [
      "100%|████████████████████████████████████████████████████████████████████████████████████| 7/7 [00:09<00:00,  1.42s/it]\n"
     ]
    },
    {
     "name": "stdout",
     "output_type": "stream",
     "text": [
      "Google\n"
     ]
    },
    {
     "name": "stderr",
     "output_type": "stream",
     "text": [
      "100%|████████████████████████████████████████████████████████████████████████████████████| 2/2 [00:03<00:00,  1.81s/it]\n"
     ]
    },
    {
     "name": "stdout",
     "output_type": "stream",
     "text": [
      "Asus\n"
     ]
    },
    {
     "name": "stderr",
     "output_type": "stream",
     "text": [
      "100%|████████████████████████████████████████████████████████████████████████████████████| 9/9 [00:14<00:00,  1.63s/it]\n"
     ]
    },
    {
     "name": "stdout",
     "output_type": "stream",
     "text": [
      "Infinix\n"
     ]
    },
    {
     "name": "stderr",
     "output_type": "stream",
     "text": [
      "100%|████████████████████████████████████████████████████████████████████████████████████| 8/8 [00:12<00:00,  1.54s/it]\n"
     ]
    },
    {
     "name": "stdout",
     "output_type": "stream",
     "text": [
      "Sony\n"
     ]
    },
    {
     "name": "stderr",
     "output_type": "stream",
     "text": [
      "100%|████████████████████████████████████████████████████████████████████████████████████| 6/6 [00:09<00:00,  1.65s/it]\n"
     ]
    },
    {
     "name": "stdout",
     "output_type": "stream",
     "text": [
      "HTC\n"
     ]
    },
    {
     "name": "stderr",
     "output_type": "stream",
     "text": [
      "100%|████████████████████████████████████████████████████████████████████████████████████| 3/3 [00:04<00:00,  1.63s/it]\n"
     ]
    },
    {
     "name": "stdout",
     "output_type": "stream",
     "text": [
      "Redmi\n"
     ]
    },
    {
     "name": "stderr",
     "output_type": "stream",
     "text": [
      "100%|██████████████████████████████████████████████████████████████████████████████████| 26/26 [00:41<00:00,  1.61s/it]\n"
     ]
    },
    {
     "name": "stdout",
     "output_type": "stream",
     "text": [
      "Iphone\n"
     ]
    },
    {
     "name": "stderr",
     "output_type": "stream",
     "text": [
      "100%|██████████████████████████████████████████████████████████████████████████████████| 16/16 [00:26<00:00,  1.68s/it]\n"
     ]
    }
   ],
   "source": [
    "flipkart_master = pd.DataFrame()\n",
    "for phone_name,url in url_master.items():\n",
    "    print(phone_name)\n",
    "    temp = get_phone_level_details(base_url = url)\n",
    "    temp['Phone Name'] = phone_name\n",
    "    flipkart_master = flipkart_master.append(temp,ignore_index = True)"
   ]
  },
  {
   "cell_type": "markdown",
   "metadata": {},
   "source": [
    "### Scrapped Data : Mobile Phone Details"
   ]
  },
  {
   "cell_type": "code",
   "execution_count": 6,
   "metadata": {},
   "outputs": [
    {
     "name": "stdout",
     "output_type": "stream",
     "text": [
      "Today Date : 2022-07-28 , Thursday\n",
      "Shape of the data : (6292, 7)\n"
     ]
    },
    {
     "data": {
      "text/html": [
       "<table border=\"1\" class=\"dataframe\">\n",
       "  <thead>\n",
       "    <tr style=\"text-align: right;\">\n",
       "      <th></th>\n",
       "      <th>Model</th>\n",
       "      <th>Prices</th>\n",
       "      <th>Rating</th>\n",
       "      <th>Review_Rating</th>\n",
       "      <th>Features</th>\n",
       "      <th>Page Number</th>\n",
       "      <th>Phone Name</th>\n",
       "    </tr>\n",
       "  </thead>\n",
       "  <tbody>\n",
       "    <tr>\n",
       "      <th>2385</th>\n",
       "      <td>Realme 6i (Lunar White, 64 GB)</td>\n",
       "      <td>₹12,949</td>\n",
       "      <td>4.4</td>\n",
       "      <td>60,592 Ratings &amp; 6,341 Reviews</td>\n",
       "      <td>[4 GB RAM | 64 GB ROM | Expandable Upto 256 GB, 16.51 cm (6.5 inch) Full HD+ Display, 48MP + 8MP + 2MP + 2MP | 16MP Front Camera, 4300 mAh Battery, MediaTek Helio G90T Processor, Brand Warranty of 1 Year Available for Mobile and 6 Months for Accessories]</td>\n",
       "      <td>8</td>\n",
       "      <td>Realme</td>\n",
       "    </tr>\n",
       "    <tr>\n",
       "      <th>3725</th>\n",
       "      <td>OnePlus Nord CE 2 5G (Gray Mirror, 128 GB)</td>\n",
       "      <td>₹24,995</td>\n",
       "      <td>4.4</td>\n",
       "      <td>919 Ratings &amp; 87 Reviews</td>\n",
       "      <td>[8 GB RAM | 128 GB ROM, 16.33 cm (6.43 inch) Display, 64MP Rear Camera, 4500 mAh Battery, 1 Year]</td>\n",
       "      <td>3</td>\n",
       "      <td>Oneplus</td>\n",
       "    </tr>\n",
       "    <tr>\n",
       "      <th>5285</th>\n",
       "      <td>HTC Desire 626 Dual SIM LTE (White Birch, 16 GB)</td>\n",
       "      <td>₹11,810</td>\n",
       "      <td>3.7</td>\n",
       "      <td>1,884 Ratings &amp; 310 Reviews</td>\n",
       "      <td>[2 GB RAM | 16 GB ROM | Expandable Upto 32 GB, 12.7 cm (5 inch) HD Display, 13MP Rear Camera | 5MP Front Camera, 2000 mAh Li-Polymer Battery, MediaTek MT6752 Octa Core 1.3GHz Processor, Brand Warranty of 1 Year]</td>\n",
       "      <td>2</td>\n",
       "      <td>HTC</td>\n",
       "    </tr>\n",
       "    <tr>\n",
       "      <th>867</th>\n",
       "      <td>SAMSUNG Galaxy A6 (Black, 32 GB)</td>\n",
       "      <td>₹11,999</td>\n",
       "      <td>4.3</td>\n",
       "      <td>694 Ratings &amp; 70 Reviews</td>\n",
       "      <td>[4 GB RAM | 32 GB ROM, 14.22 cm (5.6 inch) Display, 16MP Rear Camera | 16MP Front Camera, 3000 mAh Battery, Brand Warranty of 1 Year Available for Mobile and 6 Months for Accessories]</td>\n",
       "      <td>41</td>\n",
       "      <td>Samsung</td>\n",
       "    </tr>\n",
       "    <tr>\n",
       "      <th>4474</th>\n",
       "      <td>Itel It 2190</td>\n",
       "      <td>₹1,090</td>\n",
       "      <td>4.1</td>\n",
       "      <td>1,547 Ratings &amp; 143 Reviews</td>\n",
       "      <td>[32 MB RAM | 32 MB ROM | Expandable Upto 32 GB, 4.57 cm (1.8 inch) HQVGA Display, 0.3MP Rear Camera, 1000 mAh Battery, 1 Year]</td>\n",
       "      <td>6</td>\n",
       "      <td>Itel</td>\n",
       "    </tr>\n",
       "    <tr>\n",
       "      <th>2560</th>\n",
       "      <td>Realme Narzo 10A (So White, 64 GB)</td>\n",
       "      <td>₹9,499</td>\n",
       "      <td>4.5</td>\n",
       "      <td>87,489 Ratings &amp; 5,148 Reviews</td>\n",
       "      <td>[4 GB RAM | 64 GB ROM | Expandable Upto 256 GB, 16.56 cm (6.52 inch) HD+ Display, 12MP + 2MP + 2MP | 5MP Front Camera, 5000 mAh Lithium-ion Battery, MediaTek Helio G70 (12 nm) Processor, Brand Warranty of 1 Year Available for Mobile and 6 Months for Accessories]</td>\n",
       "      <td>15</td>\n",
       "      <td>Realme</td>\n",
       "    </tr>\n",
       "    <tr>\n",
       "      <th>2806</th>\n",
       "      <td>Intex Yuvi+</td>\n",
       "      <td>₹1,990</td>\n",
       "      <td>3.7</td>\n",
       "      <td>40 Ratings &amp; 7 Reviews</td>\n",
       "      <td>[Expandable Upto 16 GB, 6.1 cm (2.4 inch) QVGA Display, 1.3MP Rear Camera, 1800 mAh Li-Ion Battery, 1 Year for Mobile &amp; 6 Months for Accessories]</td>\n",
       "      <td>3</td>\n",
       "      <td>Intex</td>\n",
       "    </tr>\n",
       "  </tbody>\n",
       "</table>"
      ],
      "text/plain": [
       "<IPython.core.display.HTML object>"
      ]
     },
     "metadata": {},
     "output_type": "display_data"
    }
   ],
   "source": [
    "today = date.today()\n",
    "print(f'Today Date : {today} , {today.strftime(\"%A\")}')\n",
    "print(f\"Shape of the data : {flipkart_master.shape}\")\n",
    "display(HTML(flipkart_master.sample(7).to_html()))"
   ]
  },
  {
   "cell_type": "markdown",
   "metadata": {},
   "source": [
    "### Count Plot : Of different Brand Mobile Phone"
   ]
  },
  {
   "cell_type": "code",
   "execution_count": 7,
   "metadata": {},
   "outputs": [
    {
     "data": {
      "image/png": "[encoded data removed]",
      "text/plain": [
       "<Figure size 720x720 with 1 Axes>"
      ]
     },
     "metadata": {},
     "output_type": "display_data"
    }
   ],
   "source": [
    "import matplotlib.pyplot as plt\n",
    "plt.style.use('fivethirtyeight')\n",
    "fig, axs = plt.subplots(sharey=True, figsize=(10,10))\n",
    "flipkart_master.groupby('Phone Name')['Model'].count().sort_values().plot(kind = 'barh')\n",
    "plt.title(\"Count Plot\")\n",
    "plt.tight_layout()\n",
    "plt.show()"
   ]
  }
 ],
 "metadata": {
  "kernelspec": {
   "display_name": "Python 3",
   "language": "python",
   "name": "python3"
  },
  "language_info": {
   "codemirror_mode": {
    "name": "ipython",
    "version": 3
   },
   "file_extension": ".py",
   "mimetype": "text/x-python",
   "name": "python",
   "nbconvert_exporter": "python",
   "pygments_lexer": "ipython3",
   "version": "3.8.5"
  }
 },
 "nbformat": 4,
 "nbformat_minor": 4
}
